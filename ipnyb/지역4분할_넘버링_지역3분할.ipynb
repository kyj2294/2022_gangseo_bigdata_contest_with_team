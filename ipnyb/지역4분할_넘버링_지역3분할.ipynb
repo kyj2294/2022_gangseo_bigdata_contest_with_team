{
 "cells": [
  {
   "cell_type": "code",
   "execution_count": 46,
   "id": "7e179592",
   "metadata": {},
   "outputs": [],
   "source": [
    "import pandas as pd\n",
    "from haversine import haversine"
   ]
  },
  {
   "cell_type": "code",
   "execution_count": 33,
   "id": "9c5fdc83",
   "metadata": {},
   "outputs": [],
   "source": [
    "df = pd.read_csv('단속장소_최종중복제거.csv', encoding= 'cp949', index_col = 0)"
   ]
  },
  {
   "cell_type": "code",
   "execution_count": 35,
   "id": "49f4dcb7",
   "metadata": {},
   "outputs": [
    {
     "data": {
      "text/html": [
       "<div>\n",
       "<style scoped>\n",
       "    .dataframe tbody tr th:only-of-type {\n",
       "        vertical-align: middle;\n",
       "    }\n",
       "\n",
       "    .dataframe tbody tr th {\n",
       "        vertical-align: top;\n",
       "    }\n",
       "\n",
       "    .dataframe thead th {\n",
       "        text-align: right;\n",
       "    }\n",
       "</style>\n",
       "<table border=\"1\" class=\"dataframe\">\n",
       "  <thead>\n",
       "    <tr style=\"text-align: right;\">\n",
       "      <th></th>\n",
       "      <th>단속장소</th>\n",
       "      <th>X</th>\n",
       "      <th>Y</th>\n",
       "      <th>단속건수</th>\n",
       "    </tr>\n",
       "  </thead>\n",
       "  <tbody>\n",
       "    <tr>\n",
       "      <th>0</th>\n",
       "      <td>서울특별시 양천구 목동 901-3</td>\n",
       "      <td>126.872374</td>\n",
       "      <td>37.537457</td>\n",
       "      <td>48</td>\n",
       "    </tr>\n",
       "    <tr>\n",
       "      <th>1</th>\n",
       "      <td>서울특별시 양천구 신정동 212-1</td>\n",
       "      <td>126.866868</td>\n",
       "      <td>37.509881</td>\n",
       "      <td>117</td>\n",
       "    </tr>\n",
       "    <tr>\n",
       "      <th>2</th>\n",
       "      <td>서울특별시 양천구 신정7 목동파크자이아파트 정문</td>\n",
       "      <td>126.855695</td>\n",
       "      <td>37.515174</td>\n",
       "      <td>556</td>\n",
       "    </tr>\n",
       "    <tr>\n",
       "      <th>3</th>\n",
       "      <td>서울특별시 양천구 신정동 신정기독교 백화점</td>\n",
       "      <td>126.852776</td>\n",
       "      <td>37.519932</td>\n",
       "      <td>261</td>\n",
       "    </tr>\n",
       "    <tr>\n",
       "      <th>4</th>\n",
       "      <td>서울특별시 양천구 신정동 311</td>\n",
       "      <td>126.857833</td>\n",
       "      <td>37.514988</td>\n",
       "      <td>131</td>\n",
       "    </tr>\n",
       "    <tr>\n",
       "      <th>...</th>\n",
       "      <td>...</td>\n",
       "      <td>...</td>\n",
       "      <td>...</td>\n",
       "      <td>...</td>\n",
       "    </tr>\n",
       "    <tr>\n",
       "      <th>135</th>\n",
       "      <td>서울특별시 양천구 신월동 서울 양천구 신월동 216</td>\n",
       "      <td>126.835559</td>\n",
       "      <td>37.526068</td>\n",
       "      <td>38</td>\n",
       "    </tr>\n",
       "    <tr>\n",
       "      <th>136</th>\n",
       "      <td>서울특별시 양천구 신정동 홍익병원</td>\n",
       "      <td>126.863634</td>\n",
       "      <td>37.528603</td>\n",
       "      <td>123</td>\n",
       "    </tr>\n",
       "    <tr>\n",
       "      <th>137</th>\n",
       "      <td>서울특별시 양천구 목동 현대파크빌</td>\n",
       "      <td>126.867165</td>\n",
       "      <td>37.542323</td>\n",
       "      <td>143</td>\n",
       "    </tr>\n",
       "    <tr>\n",
       "      <th>138</th>\n",
       "      <td>서울특별시 양천구 목동 목1동 서가앤쿡 목동점</td>\n",
       "      <td>126.869250</td>\n",
       "      <td>37.525320</td>\n",
       "      <td>237</td>\n",
       "    </tr>\n",
       "    <tr>\n",
       "      <th>139</th>\n",
       "      <td>서울특별시 양천구 목동 보미진온누리약국</td>\n",
       "      <td>126.864081</td>\n",
       "      <td>37.549686</td>\n",
       "      <td>103</td>\n",
       "    </tr>\n",
       "  </tbody>\n",
       "</table>\n",
       "<p>140 rows × 4 columns</p>\n",
       "</div>"
      ],
      "text/plain": [
       "                             단속장소           X          Y  단속건수\n",
       "0              서울특별시 양천구 목동 901-3  126.872374  37.537457    48\n",
       "1             서울특별시 양천구 신정동 212-1  126.866868  37.509881   117\n",
       "2     서울특별시 양천구 신정7 목동파크자이아파트 정문   126.855695  37.515174   556\n",
       "3        서울특별시 양천구 신정동 신정기독교 백화점   126.852776  37.519932   261\n",
       "4               서울특별시 양천구 신정동 311  126.857833  37.514988   131\n",
       "..                            ...         ...        ...   ...\n",
       "135  서울특별시 양천구 신월동 서울 양천구 신월동 216  126.835559  37.526068    38\n",
       "136           서울특별시 양천구 신정동 홍익병원   126.863634  37.528603   123\n",
       "137           서울특별시 양천구 목동 현대파크빌   126.867165  37.542323   143\n",
       "138     서울특별시 양천구 목동 목1동 서가앤쿡 목동점  126.869250  37.525320   237\n",
       "139        서울특별시 양천구 목동 보미진온누리약국   126.864081  37.549686   103\n",
       "\n",
       "[140 rows x 4 columns]"
      ]
     },
     "execution_count": 35,
     "metadata": {},
     "output_type": "execute_result"
    }
   ],
   "source": [
    "df"
   ]
  },
  {
   "cell_type": "markdown",
   "id": "f607d912",
   "metadata": {},
   "source": [
    "### X좌표의 최소값과 최대값의 평균"
   ]
  },
  {
   "cell_type": "code",
   "execution_count": 38,
   "id": "82f687ec",
   "metadata": {},
   "outputs": [],
   "source": [
    "x_cen = (df['X'].min() + df['X'].max())/2"
   ]
  },
  {
   "cell_type": "markdown",
   "id": "e2a5116e",
   "metadata": {},
   "source": [
    "###  Y좌표의 최소값과 최대값의 평균"
   ]
  },
  {
   "cell_type": "code",
   "execution_count": 39,
   "id": "aafaf58a",
   "metadata": {},
   "outputs": [],
   "source": [
    "y_cen = (df['Y'].min() + df['Y'].max())/2"
   ]
  },
  {
   "cell_type": "markdown",
   "id": "6947c817",
   "metadata": {},
   "source": [
    "### 각 좌표의 넘버링을 위해\n",
    "### x,y 최대최소좌표의 중간값을 이용해 지역을 4분할"
   ]
  },
  {
   "cell_type": "code",
   "execution_count": 45,
   "id": "fd0befb5",
   "metadata": {},
   "outputs": [],
   "source": [
    "df1 = df[(df['X'] <= x_cen) & (df['Y'] >= y_cen) ] # 좌측 상단\n",
    "df2 = df[(df['X'] <= x_cen) & (df['Y'] < y_cen) ] # 죄측 하단\n",
    "df3 = df[(df['X'] > x_cen) & (df['Y'] < y_cen) ] # 우측 하단\n",
    "df4 = df[(df['X'] > x_cen) & (df['Y'] >= y_cen)] # 우측 상단"
   ]
  },
  {
   "cell_type": "code",
   "execution_count": 52,
   "id": "75515985",
   "metadata": {},
   "outputs": [],
   "source": [
    "for i in range(1,5):\n",
    "    globals()[f'df{i}'].reset_index(inplace = True, drop = True)"
   ]
  },
  {
   "cell_type": "markdown",
   "id": "186fcc3c",
   "metadata": {},
   "source": [
    "### 4분할 별로 거리찍는 기준점\n",
    "\n",
    "#### 좌측 상단 : y값이 가장 큰 좌표\n",
    "#### 좌측 하단 : x값이 가장 작은 좌표\n",
    "#### 우측 하단 : x값이 가장 작은 좌표\n",
    "#### 우측 상단 : y값이 가장 작은 좌표"
   ]
  },
  {
   "cell_type": "code",
   "execution_count": 193,
   "id": "4b20d5e4",
   "metadata": {},
   "outputs": [],
   "source": [
    "p1 = df1[df1['Y'] == df1['Y'].max()]\n",
    "p2 = df2[df2['X'] == df2['X'].min()]\n",
    "p3 = df3[df3['X'] == df3['X'].min()]\n",
    "p4 = df4[df4['Y'] == df4['Y'].min()]"
   ]
  },
  {
   "cell_type": "code",
   "execution_count": 194,
   "id": "49e5ce19",
   "metadata": {},
   "outputs": [
    {
     "data": {
      "text/plain": [
       "1463.968155557792"
      ]
     },
     "execution_count": 194,
     "metadata": {},
     "output_type": "execute_result"
    }
   ],
   "source": [
    "haversine((p2['X'], p2['Y']), (df1['X'][0], df1['Y'][0])) * 1000"
   ]
  },
  {
   "cell_type": "code",
   "execution_count": 195,
   "id": "c95fd338",
   "metadata": {},
   "outputs": [],
   "source": [
    "for i in range(1,5):\n",
    "    globals()[f'df{i}']['dis_from_first'] = 0"
   ]
  },
  {
   "cell_type": "markdown",
   "id": "b19f573a",
   "metadata": {},
   "source": [
    "### 좌표 기준점에서 4분할 된 구역의 각 좌표까지 거리"
   ]
  },
  {
   "cell_type": "code",
   "execution_count": 196,
   "id": "7dacfc49",
   "metadata": {},
   "outputs": [],
   "source": [
    "def set_dis_from_first(df, point):\n",
    "    for i in range(len(df)):\n",
    "        df['dis_from_first'][i] = haversine((point['X'], point['Y']), (df['X'][i], df['Y'][i])) * 1000"
   ]
  },
  {
   "cell_type": "code",
   "execution_count": 197,
   "id": "e7e86339",
   "metadata": {},
   "outputs": [
    {
     "name": "stderr",
     "output_type": "stream",
     "text": [
      "C:\\Users\\bany9\\AppData\\Local\\Temp/ipykernel_2476/98491907.py:3: SettingWithCopyWarning: \n",
      "A value is trying to be set on a copy of a slice from a DataFrame\n",
      "\n",
      "See the caveats in the documentation: https://pandas.pydata.org/pandas-docs/stable/user_guide/indexing.html#returning-a-view-versus-a-copy\n",
      "  df['dis_from_first'][i] = haversine((point['X'], point['Y']), (df['X'][i], df['Y'][i])) * 1000\n"
     ]
    }
   ],
   "source": [
    "set_dis_from_first(df1, p1)\n",
    "set_dis_from_first(df2, p2)\n",
    "set_dis_from_first(df3, p3)\n",
    "set_dis_from_first(df4, p4)"
   ]
  },
  {
   "cell_type": "markdown",
   "id": "946cc26b",
   "metadata": {},
   "source": [
    "### df1 ~ 4 'label'컬럼에 1 ~ 4 (x, y좌표 위치 기준으로 4분할 한 위치 표시)"
   ]
  },
  {
   "cell_type": "code",
   "execution_count": 198,
   "id": "194bebc4",
   "metadata": {},
   "outputs": [],
   "source": [
    "for i in range(1,5):\n",
    "    globals()[f'df{i}']['label'] = i"
   ]
  },
  {
   "cell_type": "markdown",
   "id": "a3b50de8",
   "metadata": {},
   "source": [
    "### dis_from_first 컬럼으로 sort"
   ]
  },
  {
   "cell_type": "code",
   "execution_count": 199,
   "id": "ee1deebd",
   "metadata": {},
   "outputs": [],
   "source": [
    "for i in range(1,5):\n",
    "    globals()[f'df{i}'] = globals()[f'df{i}'].sort_values('dis_from_first')"
   ]
  },
  {
   "cell_type": "code",
   "execution_count": 200,
   "id": "c6acfa8e",
   "metadata": {},
   "outputs": [],
   "source": [
    "for i in range(1,5):\n",
    "    globals()[f'df{i}'].reset_index(inplace = True, drop = True)"
   ]
  },
  {
   "cell_type": "markdown",
   "id": "33a9ac0b",
   "metadata": {},
   "source": [
    "### df1 ~ df4 apppend"
   ]
  },
  {
   "cell_type": "code",
   "execution_count": 201,
   "id": "f660ccc7",
   "metadata": {},
   "outputs": [],
   "source": [
    "df_final = df1.append(df2)\n",
    "df_final = df_final.append(df3)\n",
    "df_final = df_final.append(df4)"
   ]
  },
  {
   "cell_type": "code",
   "execution_count": 202,
   "id": "03904dd7",
   "metadata": {},
   "outputs": [],
   "source": [
    "df_final.reset_index(inplace = True, drop= True)"
   ]
  },
  {
   "cell_type": "code",
   "execution_count": 203,
   "id": "c89e9141",
   "metadata": {},
   "outputs": [
    {
     "name": "stderr",
     "output_type": "stream",
     "text": [
      "C:\\Users\\bany9\\AppData\\Local\\Temp/ipykernel_2476/460159449.py:3: SettingWithCopyWarning: \n",
      "A value is trying to be set on a copy of a slice from a DataFrame\n",
      "\n",
      "See the caveats in the documentation: https://pandas.pydata.org/pandas-docs/stable/user_guide/indexing.html#returning-a-view-versus-a-copy\n",
      "  df_final['number'][i] = df_final.index[i]\n"
     ]
    }
   ],
   "source": [
    "df_final['number'] = 0\n",
    "for i in range(len(df_final)):\n",
    "    df_final['number'][i] = df_final.index[i]"
   ]
  },
  {
   "cell_type": "code",
   "execution_count": 204,
   "id": "fad91537",
   "metadata": {},
   "outputs": [
    {
     "data": {
      "text/html": [
       "<div>\n",
       "<style scoped>\n",
       "    .dataframe tbody tr th:only-of-type {\n",
       "        vertical-align: middle;\n",
       "    }\n",
       "\n",
       "    .dataframe tbody tr th {\n",
       "        vertical-align: top;\n",
       "    }\n",
       "\n",
       "    .dataframe thead th {\n",
       "        text-align: right;\n",
       "    }\n",
       "</style>\n",
       "<table border=\"1\" class=\"dataframe\">\n",
       "  <thead>\n",
       "    <tr style=\"text-align: right;\">\n",
       "      <th></th>\n",
       "      <th>단속장소</th>\n",
       "      <th>X</th>\n",
       "      <th>Y</th>\n",
       "      <th>단속건수</th>\n",
       "      <th>dis_from_first</th>\n",
       "      <th>label</th>\n",
       "      <th>number</th>\n",
       "    </tr>\n",
       "  </thead>\n",
       "  <tbody>\n",
       "    <tr>\n",
       "      <th>0</th>\n",
       "      <td>서울특별시 양천구 신월3동신원초교</td>\n",
       "      <td>126.829355</td>\n",
       "      <td>37.545372</td>\n",
       "      <td>83</td>\n",
       "      <td>0</td>\n",
       "      <td>1</td>\n",
       "      <td>0</td>\n",
       "    </tr>\n",
       "    <tr>\n",
       "      <th>1</th>\n",
       "      <td>서울특별시 양천구 신월동 수명산롯데캐슬아파트</td>\n",
       "      <td>126.828413</td>\n",
       "      <td>37.544168</td>\n",
       "      <td>44</td>\n",
       "      <td>132</td>\n",
       "      <td>1</td>\n",
       "      <td>1</td>\n",
       "    </tr>\n",
       "    <tr>\n",
       "      <th>2</th>\n",
       "      <td>서울특별시 양천구 신월동 신월중</td>\n",
       "      <td>126.828963</td>\n",
       "      <td>37.541024</td>\n",
       "      <td>91</td>\n",
       "      <td>293</td>\n",
       "      <td>1</td>\n",
       "      <td>2</td>\n",
       "    </tr>\n",
       "    <tr>\n",
       "      <th>3</th>\n",
       "      <td>서울특별시 양천구 신월동 강서경찰서</td>\n",
       "      <td>126.830222</td>\n",
       "      <td>37.539764</td>\n",
       "      <td>98</td>\n",
       "      <td>386</td>\n",
       "      <td>1</td>\n",
       "      <td>3</td>\n",
       "    </tr>\n",
       "    <tr>\n",
       "      <th>4</th>\n",
       "      <td>서울특별시 양천구 신월동 273</td>\n",
       "      <td>126.828015</td>\n",
       "      <td>37.537837</td>\n",
       "      <td>46</td>\n",
       "      <td>523</td>\n",
       "      <td>1</td>\n",
       "      <td>4</td>\n",
       "    </tr>\n",
       "    <tr>\n",
       "      <th>...</th>\n",
       "      <td>...</td>\n",
       "      <td>...</td>\n",
       "      <td>...</td>\n",
       "      <td>...</td>\n",
       "      <td>...</td>\n",
       "      <td>...</td>\n",
       "      <td>...</td>\n",
       "    </tr>\n",
       "    <tr>\n",
       "      <th>135</th>\n",
       "      <td>서울특별시 양천구 목동 901</td>\n",
       "      <td>126.879447</td>\n",
       "      <td>37.539389</td>\n",
       "      <td>76</td>\n",
       "      <td>2128</td>\n",
       "      <td>4</td>\n",
       "      <td>135</td>\n",
       "    </tr>\n",
       "    <tr>\n",
       "      <th>136</th>\n",
       "      <td>서울특별시 양천구 목목동5단지아파트</td>\n",
       "      <td>126.880367</td>\n",
       "      <td>37.534470</td>\n",
       "      <td>100</td>\n",
       "      <td>2134</td>\n",
       "      <td>4</td>\n",
       "      <td>136</td>\n",
       "    </tr>\n",
       "    <tr>\n",
       "      <th>137</th>\n",
       "      <td>서울특별시 양천구 목5동 현대파크빌</td>\n",
       "      <td>126.880252</td>\n",
       "      <td>37.535853</td>\n",
       "      <td>159</td>\n",
       "      <td>2142</td>\n",
       "      <td>4</td>\n",
       "      <td>137</td>\n",
       "    </tr>\n",
       "    <tr>\n",
       "      <th>138</th>\n",
       "      <td>서울특별시 양천구 목동 912</td>\n",
       "      <td>126.881859</td>\n",
       "      <td>37.535143</td>\n",
       "      <td>63</td>\n",
       "      <td>2306</td>\n",
       "      <td>4</td>\n",
       "      <td>138</td>\n",
       "    </tr>\n",
       "    <tr>\n",
       "      <th>139</th>\n",
       "      <td>서울특별시 양천구 목 동 912-3</td>\n",
       "      <td>126.883741</td>\n",
       "      <td>37.532829</td>\n",
       "      <td>38</td>\n",
       "      <td>2486</td>\n",
       "      <td>4</td>\n",
       "      <td>139</td>\n",
       "    </tr>\n",
       "  </tbody>\n",
       "</table>\n",
       "<p>140 rows × 7 columns</p>\n",
       "</div>"
      ],
      "text/plain": [
       "                         단속장소           X          Y  단속건수  dis_from_first  \\\n",
       "0          서울특별시 양천구 신월3동신원초교  126.829355  37.545372    83               0   \n",
       "1    서울특별시 양천구 신월동 수명산롯데캐슬아파트  126.828413  37.544168    44             132   \n",
       "2           서울특별시 양천구 신월동 신월중  126.828963  37.541024    91             293   \n",
       "3         서울특별시 양천구 신월동 강서경찰서  126.830222  37.539764    98             386   \n",
       "4           서울특별시 양천구 신월동 273  126.828015  37.537837    46             523   \n",
       "..                        ...         ...        ...   ...             ...   \n",
       "135          서울특별시 양천구 목동 901  126.879447  37.539389    76            2128   \n",
       "136       서울특별시 양천구 목목동5단지아파트  126.880367  37.534470   100            2134   \n",
       "137      서울특별시 양천구 목5동 현대파크빌   126.880252  37.535853   159            2142   \n",
       "138          서울특별시 양천구 목동 912  126.881859  37.535143    63            2306   \n",
       "139       서울특별시 양천구 목 동 912-3  126.883741  37.532829    38            2486   \n",
       "\n",
       "     label  number  \n",
       "0        1       0  \n",
       "1        1       1  \n",
       "2        1       2  \n",
       "3        1       3  \n",
       "4        1       4  \n",
       "..     ...     ...  \n",
       "135      4     135  \n",
       "136      4     136  \n",
       "137      4     137  \n",
       "138      4     138  \n",
       "139      4     139  \n",
       "\n",
       "[140 rows x 7 columns]"
      ]
     },
     "execution_count": 204,
     "metadata": {},
     "output_type": "execute_result"
    }
   ],
   "source": [
    "df_final"
   ]
  },
  {
   "cell_type": "code",
   "execution_count": 205,
   "id": "8c5d651b",
   "metadata": {},
   "outputs": [],
   "source": [
    "def hav_dis(df, a, b):\n",
    "    h = (df['X'][a], df['Y'][a])\n",
    "    j = (df['X'][b], df['Y'][b])\n",
    "    dis = haversine(h,j) * 1000\n",
    "    return dis"
   ]
  },
  {
   "cell_type": "code",
   "execution_count": 206,
   "id": "e4963ca3",
   "metadata": {},
   "outputs": [],
   "source": [
    "def set_dis_to_next_num(df):\n",
    "    for i in range(len(df)-1):\n",
    "        d = hav_dis(df, i, i+1)\n",
    "        df['dis'][i] = d\n",
    "    return df"
   ]
  },
  {
   "cell_type": "code",
   "execution_count": 207,
   "id": "c64eaed6",
   "metadata": {},
   "outputs": [],
   "source": [
    "df_final['dis'] = 0"
   ]
  },
  {
   "cell_type": "code",
   "execution_count": 208,
   "id": "03b87589",
   "metadata": {},
   "outputs": [
    {
     "name": "stderr",
     "output_type": "stream",
     "text": [
      "C:\\Users\\bany9\\AppData\\Local\\Temp/ipykernel_2476/3761305484.py:4: SettingWithCopyWarning: \n",
      "A value is trying to be set on a copy of a slice from a DataFrame\n",
      "\n",
      "See the caveats in the documentation: https://pandas.pydata.org/pandas-docs/stable/user_guide/indexing.html#returning-a-view-versus-a-copy\n",
      "  df['dis'][i] = d\n"
     ]
    },
    {
     "data": {
      "text/html": [
       "<div>\n",
       "<style scoped>\n",
       "    .dataframe tbody tr th:only-of-type {\n",
       "        vertical-align: middle;\n",
       "    }\n",
       "\n",
       "    .dataframe tbody tr th {\n",
       "        vertical-align: top;\n",
       "    }\n",
       "\n",
       "    .dataframe thead th {\n",
       "        text-align: right;\n",
       "    }\n",
       "</style>\n",
       "<table border=\"1\" class=\"dataframe\">\n",
       "  <thead>\n",
       "    <tr style=\"text-align: right;\">\n",
       "      <th></th>\n",
       "      <th>단속장소</th>\n",
       "      <th>X</th>\n",
       "      <th>Y</th>\n",
       "      <th>단속건수</th>\n",
       "      <th>dis_from_first</th>\n",
       "      <th>label</th>\n",
       "      <th>number</th>\n",
       "      <th>dis</th>\n",
       "    </tr>\n",
       "  </thead>\n",
       "  <tbody>\n",
       "    <tr>\n",
       "      <th>0</th>\n",
       "      <td>서울특별시 양천구 신월3동신원초교</td>\n",
       "      <td>126.829355</td>\n",
       "      <td>37.545372</td>\n",
       "      <td>83</td>\n",
       "      <td>0</td>\n",
       "      <td>1</td>\n",
       "      <td>0</td>\n",
       "      <td>132</td>\n",
       "    </tr>\n",
       "    <tr>\n",
       "      <th>1</th>\n",
       "      <td>서울특별시 양천구 신월동 수명산롯데캐슬아파트</td>\n",
       "      <td>126.828413</td>\n",
       "      <td>37.544168</td>\n",
       "      <td>44</td>\n",
       "      <td>132</td>\n",
       "      <td>1</td>\n",
       "      <td>1</td>\n",
       "      <td>218</td>\n",
       "    </tr>\n",
       "    <tr>\n",
       "      <th>2</th>\n",
       "      <td>서울특별시 양천구 신월동 신월중</td>\n",
       "      <td>126.828963</td>\n",
       "      <td>37.541024</td>\n",
       "      <td>91</td>\n",
       "      <td>293</td>\n",
       "      <td>1</td>\n",
       "      <td>2</td>\n",
       "      <td>163</td>\n",
       "    </tr>\n",
       "    <tr>\n",
       "      <th>3</th>\n",
       "      <td>서울특별시 양천구 신월동 강서경찰서</td>\n",
       "      <td>126.830222</td>\n",
       "      <td>37.539764</td>\n",
       "      <td>98</td>\n",
       "      <td>386</td>\n",
       "      <td>1</td>\n",
       "      <td>3</td>\n",
       "      <td>277</td>\n",
       "    </tr>\n",
       "    <tr>\n",
       "      <th>4</th>\n",
       "      <td>서울특별시 양천구 신월동 273</td>\n",
       "      <td>126.828015</td>\n",
       "      <td>37.537837</td>\n",
       "      <td>46</td>\n",
       "      <td>523</td>\n",
       "      <td>1</td>\n",
       "      <td>4</td>\n",
       "      <td>74</td>\n",
       "    </tr>\n",
       "    <tr>\n",
       "      <th>...</th>\n",
       "      <td>...</td>\n",
       "      <td>...</td>\n",
       "      <td>...</td>\n",
       "      <td>...</td>\n",
       "      <td>...</td>\n",
       "      <td>...</td>\n",
       "      <td>...</td>\n",
       "      <td>...</td>\n",
       "    </tr>\n",
       "    <tr>\n",
       "      <th>135</th>\n",
       "      <td>서울특별시 양천구 목동 901</td>\n",
       "      <td>126.879447</td>\n",
       "      <td>37.539389</td>\n",
       "      <td>76</td>\n",
       "      <td>2128</td>\n",
       "      <td>4</td>\n",
       "      <td>135</td>\n",
       "      <td>343</td>\n",
       "    </tr>\n",
       "    <tr>\n",
       "      <th>136</th>\n",
       "      <td>서울특별시 양천구 목목동5단지아파트</td>\n",
       "      <td>126.880367</td>\n",
       "      <td>37.534470</td>\n",
       "      <td>100</td>\n",
       "      <td>2134</td>\n",
       "      <td>4</td>\n",
       "      <td>136</td>\n",
       "      <td>93</td>\n",
       "    </tr>\n",
       "    <tr>\n",
       "      <th>137</th>\n",
       "      <td>서울특별시 양천구 목5동 현대파크빌</td>\n",
       "      <td>126.880252</td>\n",
       "      <td>37.535853</td>\n",
       "      <td>159</td>\n",
       "      <td>2142</td>\n",
       "      <td>4</td>\n",
       "      <td>137</td>\n",
       "      <td>184</td>\n",
       "    </tr>\n",
       "    <tr>\n",
       "      <th>138</th>\n",
       "      <td>서울특별시 양천구 목동 912</td>\n",
       "      <td>126.881859</td>\n",
       "      <td>37.535143</td>\n",
       "      <td>63</td>\n",
       "      <td>2306</td>\n",
       "      <td>4</td>\n",
       "      <td>138</td>\n",
       "      <td>260</td>\n",
       "    </tr>\n",
       "    <tr>\n",
       "      <th>139</th>\n",
       "      <td>서울특별시 양천구 목 동 912-3</td>\n",
       "      <td>126.883741</td>\n",
       "      <td>37.532829</td>\n",
       "      <td>38</td>\n",
       "      <td>2486</td>\n",
       "      <td>4</td>\n",
       "      <td>139</td>\n",
       "      <td>0</td>\n",
       "    </tr>\n",
       "  </tbody>\n",
       "</table>\n",
       "<p>140 rows × 8 columns</p>\n",
       "</div>"
      ],
      "text/plain": [
       "                         단속장소           X          Y  단속건수  dis_from_first  \\\n",
       "0          서울특별시 양천구 신월3동신원초교  126.829355  37.545372    83               0   \n",
       "1    서울특별시 양천구 신월동 수명산롯데캐슬아파트  126.828413  37.544168    44             132   \n",
       "2           서울특별시 양천구 신월동 신월중  126.828963  37.541024    91             293   \n",
       "3         서울특별시 양천구 신월동 강서경찰서  126.830222  37.539764    98             386   \n",
       "4           서울특별시 양천구 신월동 273  126.828015  37.537837    46             523   \n",
       "..                        ...         ...        ...   ...             ...   \n",
       "135          서울특별시 양천구 목동 901  126.879447  37.539389    76            2128   \n",
       "136       서울특별시 양천구 목목동5단지아파트  126.880367  37.534470   100            2134   \n",
       "137      서울특별시 양천구 목5동 현대파크빌   126.880252  37.535853   159            2142   \n",
       "138          서울특별시 양천구 목동 912  126.881859  37.535143    63            2306   \n",
       "139       서울특별시 양천구 목 동 912-3  126.883741  37.532829    38            2486   \n",
       "\n",
       "     label  number  dis  \n",
       "0        1       0  132  \n",
       "1        1       1  218  \n",
       "2        1       2  163  \n",
       "3        1       3  277  \n",
       "4        1       4   74  \n",
       "..     ...     ...  ...  \n",
       "135      4     135  343  \n",
       "136      4     136   93  \n",
       "137      4     137  184  \n",
       "138      4     138  260  \n",
       "139      4     139    0  \n",
       "\n",
       "[140 rows x 8 columns]"
      ]
     },
     "execution_count": 208,
     "metadata": {},
     "output_type": "execute_result"
    }
   ],
   "source": [
    "set_dis_to_next_num(df_final)"
   ]
  },
  {
   "cell_type": "markdown",
   "id": "da5f7715",
   "metadata": {},
   "source": [
    "df_final.to_csv('4분할.csv', encoding = 'cp949')"
   ]
  },
  {
   "cell_type": "markdown",
   "id": "5352ca34",
   "metadata": {},
   "source": [
    "### numbering 기준 df 3분할"
   ]
  },
  {
   "cell_type": "code",
   "execution_count": 209,
   "id": "28a2349d",
   "metadata": {},
   "outputs": [],
   "source": [
    "len_div_by_3 = df_final['number'].max() // 3"
   ]
  },
  {
   "cell_type": "code",
   "execution_count": 210,
   "id": "7ba532f0",
   "metadata": {},
   "outputs": [],
   "source": [
    "df_final['label_by_3'] = 0"
   ]
  },
  {
   "cell_type": "code",
   "execution_count": 211,
   "id": "c888563b",
   "metadata": {},
   "outputs": [
    {
     "name": "stderr",
     "output_type": "stream",
     "text": [
      "C:\\Users\\bany9\\AppData\\Local\\Temp/ipykernel_2476/3939479114.py:1: SettingWithCopyWarning: \n",
      "A value is trying to be set on a copy of a slice from a DataFrame.\n",
      "Try using .loc[row_indexer,col_indexer] = value instead\n",
      "\n",
      "See the caveats in the documentation: https://pandas.pydata.org/pandas-docs/stable/user_guide/indexing.html#returning-a-view-versus-a-copy\n",
      "  df_final.loc[ :len_div_by_3]['label_by_3'] = 1\n"
     ]
    }
   ],
   "source": [
    "df_final.loc[ :len_div_by_3]['label_by_3'] = 1"
   ]
  },
  {
   "cell_type": "code",
   "execution_count": 212,
   "id": "48d339e0",
   "metadata": {},
   "outputs": [
    {
     "name": "stderr",
     "output_type": "stream",
     "text": [
      "C:\\Users\\bany9\\AppData\\Local\\Temp/ipykernel_2476/781483705.py:1: SettingWithCopyWarning: \n",
      "A value is trying to be set on a copy of a slice from a DataFrame.\n",
      "Try using .loc[row_indexer,col_indexer] = value instead\n",
      "\n",
      "See the caveats in the documentation: https://pandas.pydata.org/pandas-docs/stable/user_guide/indexing.html#returning-a-view-versus-a-copy\n",
      "  df_final.loc[len_div_by_3 + 1 : len_div_by_3 * 2]['label_by_3'] = 2\n"
     ]
    }
   ],
   "source": [
    "df_final.loc[len_div_by_3 + 1 : len_div_by_3 * 2]['label_by_3'] = 2"
   ]
  },
  {
   "cell_type": "code",
   "execution_count": 213,
   "id": "2deda894",
   "metadata": {},
   "outputs": [
    {
     "name": "stderr",
     "output_type": "stream",
     "text": [
      "C:\\Users\\bany9\\AppData\\Local\\Temp/ipykernel_2476/4216261111.py:1: SettingWithCopyWarning: \n",
      "A value is trying to be set on a copy of a slice from a DataFrame.\n",
      "Try using .loc[row_indexer,col_indexer] = value instead\n",
      "\n",
      "See the caveats in the documentation: https://pandas.pydata.org/pandas-docs/stable/user_guide/indexing.html#returning-a-view-versus-a-copy\n",
      "  df_final.loc[len_div_by_3*2 + 1 : ]['label_by_3'] = 3\n"
     ]
    }
   ],
   "source": [
    "df_final.loc[len_div_by_3*2 + 1 : ]['label_by_3'] = 3"
   ]
  },
  {
   "cell_type": "code",
   "execution_count": 214,
   "id": "28f55cdb",
   "metadata": {},
   "outputs": [],
   "source": [
    "df_final.to_csv('최종3분할.csv', encoding = 'cp949')"
   ]
  },
  {
   "cell_type": "code",
   "execution_count": 218,
   "id": "1fd9842e",
   "metadata": {},
   "outputs": [
    {
     "data": {
      "text/plain": [
       "58058"
      ]
     },
     "execution_count": 218,
     "metadata": {},
     "output_type": "execute_result"
    }
   ],
   "source": [
    "df_final.dis.sum()"
   ]
  },
  {
   "cell_type": "code",
   "execution_count": null,
   "id": "f5905fb4",
   "metadata": {},
   "outputs": [],
   "source": []
  }
 ],
 "metadata": {
  "kernelspec": {
   "display_name": "Python 3 (ipykernel)",
   "language": "python",
   "name": "python3"
  },
  "language_info": {
   "codemirror_mode": {
    "name": "ipython",
    "version": 3
   },
   "file_extension": ".py",
   "mimetype": "text/x-python",
   "name": "python",
   "nbconvert_exporter": "python",
   "pygments_lexer": "ipython3",
   "version": "3.8.12"
  }
 },
 "nbformat": 4,
 "nbformat_minor": 5
}
